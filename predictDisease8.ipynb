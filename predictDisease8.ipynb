{
 "cells": [
  {
   "cell_type": "code",
   "execution_count": 1,
   "id": "initial_id",
   "metadata": {
    "collapsed": true,
    "ExecuteTime": {
     "end_time": "2024-02-26T03:28:35.316428900Z",
     "start_time": "2024-02-26T03:28:31.037686400Z"
    }
   },
   "outputs": [],
   "source": [
    "import tensorflow as tf\n",
    "import pandas as pd\n",
    "import seaborn as sns\n",
    "import matplotlib.pyplot as plt"
   ]
  },
  {
   "cell_type": "code",
   "outputs": [
    {
     "name": "stdout",
     "output_type": "stream",
     "text": [
      "Found 71965 files belonging to 48 classes.\n"
     ]
    }
   ],
   "source": [
    "training_set = tf.keras.utils.image_dataset_from_directory(\n",
    "    \"train\",\n",
    "    labels=\"inferred\",\n",
    "    label_mode=\"categorical\",\n",
    "    class_names=None,\n",
    "    color_mode=\"rgb\",\n",
    "    batch_size=32,\n",
    "    image_size=(128, 128),\n",
    "    shuffle=True,\n",
    "    seed=None,\n",
    "    validation_split=None,\n",
    "    subset=None,\n",
    "    interpolation=\"bilinear\",\n",
    "    follow_links=False,\n",
    "    crop_to_aspect_ratio=False,\n",
    "    \n",
    ")"
   ],
   "metadata": {
    "collapsed": false,
    "ExecuteTime": {
     "end_time": "2024-02-26T03:28:54.587637100Z",
     "start_time": "2024-02-26T03:28:51.520232100Z"
    }
   },
   "id": "b7924a8b9f3a9829",
   "execution_count": 2
  },
  {
   "cell_type": "code",
   "outputs": [
    {
     "name": "stdout",
     "output_type": "stream",
     "text": [
      "Found 18693 files belonging to 48 classes.\n"
     ]
    }
   ],
   "source": [
    "validation_set = tf.keras.utils.image_dataset_from_directory(\n",
    "    \"valid\",\n",
    "    labels=\"inferred\",\n",
    "    label_mode=\"categorical\",\n",
    "    class_names=None,\n",
    "    color_mode=\"rgb\",\n",
    "    batch_size=32,\n",
    "    image_size=(128, 128),\n",
    "    shuffle=True,\n",
    "    seed=None,\n",
    "    validation_split=None,\n",
    "    subset=None,\n",
    "    interpolation=\"bilinear\",\n",
    "    follow_links=False,\n",
    "    crop_to_aspect_ratio=False,\n",
    "    \n",
    ")"
   ],
   "metadata": {
    "collapsed": false,
    "ExecuteTime": {
     "end_time": "2024-02-26T03:29:15.374716400Z",
     "start_time": "2024-02-26T03:29:14.550581200Z"
    }
   },
   "id": "7d543e82cd11eafd",
   "execution_count": 3
  },
  {
   "cell_type": "code",
   "outputs": [
    {
     "data": {
      "text/plain": "<BatchDataset element_spec=(TensorSpec(shape=(None, 128, 128, 3), dtype=tf.float32, name=None), TensorSpec(shape=(None, 48), dtype=tf.float32, name=None))>"
     },
     "execution_count": 4,
     "metadata": {},
     "output_type": "execute_result"
    }
   ],
   "source": [
    "training_set"
   ],
   "metadata": {
    "collapsed": false,
    "ExecuteTime": {
     "end_time": "2024-02-26T03:31:59.532583600Z",
     "start_time": "2024-02-26T03:31:59.501508900Z"
    }
   },
   "id": "3da384c755b5eacc",
   "execution_count": 4
  },
  {
   "cell_type": "code",
   "outputs": [],
   "source": [
    "from tensorflow.keras import models, layers\n",
    "\n",
    "data_augmentation = tf.keras.Sequential([\n",
    "    layers.experimental.preprocessing.RandomFlip(\"horizontal_and_vertical\"), \n",
    "    layers.experimental.preprocessing.RandomRotation(0.2),\n",
    "    layers.experimental.preprocessing.RandomTranslation(0.2,0.2),\n",
    "    layers.experimental.preprocessing.RandomZoom(0.2),\n",
    "    layers.experimental.preprocessing.Rescaling(1./255)\n",
    "])"
   ],
   "metadata": {
    "collapsed": false,
    "ExecuteTime": {
     "end_time": "2024-02-26T03:43:46.524475900Z",
     "start_time": "2024-02-26T03:43:46.457125600Z"
    }
   },
   "id": "685be5846dfa5e1e",
   "execution_count": 22
  },
  {
   "cell_type": "code",
   "outputs": [],
   "source": [
    "from tensorflow.keras.layers import Conv2D, MaxPool2D, Flatten, Dense, Dropout\n",
    "from tensorflow.keras.models import Sequential"
   ],
   "metadata": {
    "collapsed": false,
    "ExecuteTime": {
     "end_time": "2024-02-26T03:43:48.122266200Z",
     "start_time": "2024-02-26T03:43:48.112708500Z"
    }
   },
   "id": "e8a5060ab9572b12",
   "execution_count": 23
  },
  {
   "cell_type": "code",
   "outputs": [],
   "source": [
    "model = Sequential()"
   ],
   "metadata": {
    "collapsed": false,
    "ExecuteTime": {
     "end_time": "2024-02-26T03:43:50.091629Z",
     "start_time": "2024-02-26T03:43:50.080985200Z"
    }
   },
   "id": "24c27b12fca7e085",
   "execution_count": 24
  },
  {
   "cell_type": "code",
   "outputs": [],
   "source": [
    "model.add(data_augmentation)"
   ],
   "metadata": {
    "collapsed": false,
    "ExecuteTime": {
     "end_time": "2024-02-26T03:43:51.860117Z",
     "start_time": "2024-02-26T03:43:51.839982800Z"
    }
   },
   "id": "e34165ca7ee05f8f",
   "execution_count": 25
  },
  {
   "cell_type": "code",
   "outputs": [],
   "source": [
    "model.add(Conv2D(filters = 32, kernel_size=3, padding = \"same\", activation = \"relu\", input_shape=(128,128,3)))\n",
    "model.add(Conv2D(filters=32, kernel_size=3, activation=\"relu\"))\n",
    "model.add(MaxPool2D(pool_size=2, strides=2))"
   ],
   "metadata": {
    "collapsed": false,
    "ExecuteTime": {
     "end_time": "2024-02-26T03:43:53.245568Z",
     "start_time": "2024-02-26T03:43:53.233753300Z"
    }
   },
   "id": "74fe7ef6628b8390",
   "execution_count": 26
  },
  {
   "cell_type": "code",
   "outputs": [],
   "source": [
    "model.add(Conv2D(filters = 64, kernel_size=3, padding = \"same\", activation = \"relu\"))\n",
    "model.add(Conv2D(filters=64, kernel_size=3, activation=\"relu\"))\n",
    "model.add(MaxPool2D(pool_size=2, strides=2))"
   ],
   "metadata": {
    "collapsed": false,
    "ExecuteTime": {
     "end_time": "2024-02-26T03:43:54.413919700Z",
     "start_time": "2024-02-26T03:43:54.388383400Z"
    }
   },
   "id": "5b670ddee895ba88",
   "execution_count": 27
  },
  {
   "cell_type": "code",
   "outputs": [],
   "source": [
    "model.add(Conv2D(filters = 128, kernel_size=3, padding = \"same\", activation = \"relu\"))\n",
    "model.add(Conv2D(filters=128, kernel_size=3, activation=\"relu\"))\n",
    "model.add(MaxPool2D(pool_size=2, strides=2))"
   ],
   "metadata": {
    "collapsed": false,
    "ExecuteTime": {
     "end_time": "2024-02-26T03:43:55.886890400Z",
     "start_time": "2024-02-26T03:43:55.865566900Z"
    }
   },
   "id": "a20f7fded793ca04",
   "execution_count": 28
  },
  {
   "cell_type": "code",
   "outputs": [],
   "source": [
    "model.add(Conv2D(filters = 256, kernel_size=3, padding = \"same\", activation = \"relu\"))\n",
    "model.add(Conv2D(filters=256, kernel_size=3, activation=\"relu\"))\n",
    "model.add(MaxPool2D(pool_size=2, strides=2))"
   ],
   "metadata": {
    "collapsed": false,
    "ExecuteTime": {
     "end_time": "2024-02-26T03:43:56.637904800Z",
     "start_time": "2024-02-26T03:43:56.627213Z"
    }
   },
   "id": "50941ebeb979ba1e",
   "execution_count": 29
  },
  {
   "cell_type": "code",
   "outputs": [],
   "source": [
    "model.add(Conv2D(filters = 512, kernel_size=3, padding = \"same\", activation = \"relu\"))\n",
    "model.add(Conv2D(filters=256, kernel_size=3, activation=\"relu\"))\n",
    "model.add(MaxPool2D(pool_size=2, strides=2))"
   ],
   "metadata": {
    "collapsed": false,
    "ExecuteTime": {
     "end_time": "2024-02-26T03:43:57.604108500Z",
     "start_time": "2024-02-26T03:43:57.587191800Z"
    }
   },
   "id": "88fd67f6fff96dd2",
   "execution_count": 30
  },
  {
   "cell_type": "code",
   "outputs": [],
   "source": [
    "model.add(Dropout(0.25))"
   ],
   "metadata": {
    "collapsed": false,
    "ExecuteTime": {
     "end_time": "2024-02-26T03:43:59.092762900Z",
     "start_time": "2024-02-26T03:43:59.074131200Z"
    }
   },
   "id": "546233ef767304cb",
   "execution_count": 31
  },
  {
   "cell_type": "code",
   "outputs": [],
   "source": [
    "model.add(Flatten())"
   ],
   "metadata": {
    "collapsed": false,
    "ExecuteTime": {
     "end_time": "2024-02-26T03:44:00.755922700Z",
     "start_time": "2024-02-26T03:44:00.737895700Z"
    }
   },
   "id": "91451c04179eca23",
   "execution_count": 32
  },
  {
   "cell_type": "code",
   "outputs": [],
   "source": [
    "model.add(Dense(units=1500, activation=\"relu\"))"
   ],
   "metadata": {
    "collapsed": false,
    "ExecuteTime": {
     "end_time": "2024-02-26T03:44:01.806560100Z",
     "start_time": "2024-02-26T03:44:01.784186100Z"
    }
   },
   "id": "24c03e62413e0a2d",
   "execution_count": 33
  },
  {
   "cell_type": "code",
   "outputs": [],
   "source": [
    "model.add(Dropout(0.4))"
   ],
   "metadata": {
    "collapsed": false,
    "ExecuteTime": {
     "end_time": "2024-02-26T03:44:02.831667900Z",
     "start_time": "2024-02-26T03:44:02.800214500Z"
    }
   },
   "id": "c6edcedec360607d",
   "execution_count": 34
  },
  {
   "cell_type": "code",
   "outputs": [],
   "source": [
    "model.add(Dense(units=48, activation=\"softmax\"))"
   ],
   "metadata": {
    "collapsed": false,
    "ExecuteTime": {
     "end_time": "2024-02-26T03:44:04.136226600Z",
     "start_time": "2024-02-26T03:44:04.131013400Z"
    }
   },
   "id": "7c20473c10a0cd05",
   "execution_count": 35
  },
  {
   "cell_type": "code",
   "outputs": [
    {
     "name": "stdout",
     "output_type": "stream",
     "text": [
      "WARNING:tensorflow:Using a while_loop for converting RngReadAndSkip cause there is no registered converter for this op.\n",
      "WARNING:tensorflow:Using a while_loop for converting Bitcast cause there is no registered converter for this op.\n",
      "WARNING:tensorflow:Using a while_loop for converting Bitcast cause there is no registered converter for this op.\n",
      "WARNING:tensorflow:Using a while_loop for converting StatelessRandomUniformV2 cause there is no registered converter for this op.\n",
      "WARNING:tensorflow:Using a while_loop for converting ImageProjectiveTransformV3 cause there is no registered converter for this op.\n",
      "WARNING:tensorflow:Using a while_loop for converting RngReadAndSkip cause there is no registered converter for this op.\n",
      "WARNING:tensorflow:Using a while_loop for converting Bitcast cause there is no registered converter for this op.\n",
      "WARNING:tensorflow:Using a while_loop for converting Bitcast cause there is no registered converter for this op.\n",
      "WARNING:tensorflow:Using a while_loop for converting StatelessRandomUniformV2 cause there is no registered converter for this op.\n",
      "WARNING:tensorflow:Using a while_loop for converting RngReadAndSkip cause there is no registered converter for this op.\n",
      "WARNING:tensorflow:Using a while_loop for converting Bitcast cause there is no registered converter for this op.\n",
      "WARNING:tensorflow:Using a while_loop for converting Bitcast cause there is no registered converter for this op.\n",
      "WARNING:tensorflow:Using a while_loop for converting StatelessRandomUniformV2 cause there is no registered converter for this op.\n",
      "WARNING:tensorflow:Using a while_loop for converting RngReadAndSkip cause there is no registered converter for this op.\n",
      "WARNING:tensorflow:Using a while_loop for converting Bitcast cause there is no registered converter for this op.\n",
      "WARNING:tensorflow:Using a while_loop for converting Bitcast cause there is no registered converter for this op.\n",
      "WARNING:tensorflow:Using a while_loop for converting StatelessRandomUniformV2 cause there is no registered converter for this op.\n",
      "WARNING:tensorflow:Using a while_loop for converting ImageProjectiveTransformV3 cause there is no registered converter for this op.\n",
      "WARNING:tensorflow:Using a while_loop for converting RngReadAndSkip cause there is no registered converter for this op.\n",
      "WARNING:tensorflow:Using a while_loop for converting Bitcast cause there is no registered converter for this op.\n",
      "WARNING:tensorflow:Using a while_loop for converting Bitcast cause there is no registered converter for this op.\n",
      "WARNING:tensorflow:Using a while_loop for converting StatelessRandomUniformV2 cause there is no registered converter for this op.\n",
      "WARNING:tensorflow:Using a while_loop for converting ImageProjectiveTransformV3 cause there is no registered converter for this op.\n",
      "WARNING:tensorflow:Using a while_loop for converting RngReadAndSkip cause there is no registered converter for this op.\n",
      "WARNING:tensorflow:Using a while_loop for converting Bitcast cause there is no registered converter for this op.\n",
      "WARNING:tensorflow:Using a while_loop for converting Bitcast cause there is no registered converter for this op.\n",
      "WARNING:tensorflow:Using a while_loop for converting StatelessRandomUniformV2 cause there is no registered converter for this op.\n",
      "WARNING:tensorflow:Using a while_loop for converting RngReadAndSkip cause there is no registered converter for this op.\n",
      "WARNING:tensorflow:Using a while_loop for converting Bitcast cause there is no registered converter for this op.\n",
      "WARNING:tensorflow:Using a while_loop for converting Bitcast cause there is no registered converter for this op.\n",
      "WARNING:tensorflow:Using a while_loop for converting StatelessRandomUniformV2 cause there is no registered converter for this op.\n",
      "WARNING:tensorflow:Using a while_loop for converting RngReadAndSkip cause there is no registered converter for this op.\n",
      "WARNING:tensorflow:Using a while_loop for converting Bitcast cause there is no registered converter for this op.\n",
      "WARNING:tensorflow:Using a while_loop for converting Bitcast cause there is no registered converter for this op.\n",
      "WARNING:tensorflow:Using a while_loop for converting StatelessRandomUniformV2 cause there is no registered converter for this op.\n",
      "WARNING:tensorflow:Using a while_loop for converting ImageProjectiveTransformV3 cause there is no registered converter for this op.\n"
     ]
    }
   ],
   "source": [
    "model.build(input_shape=(None, 128,128,3))"
   ],
   "metadata": {
    "collapsed": false,
    "ExecuteTime": {
     "end_time": "2024-02-26T03:44:08.314849300Z",
     "start_time": "2024-02-26T03:44:06.370111900Z"
    }
   },
   "id": "c9e7db2ee472202f",
   "execution_count": 36
  },
  {
   "cell_type": "code",
   "outputs": [],
   "source": [
    "model.compile(optimizer=tf.keras.optimizers.legacy.Adam(learning_rate=0.0001),loss=\"categorical_crossentropy\", metrics = [\"accuracy\"])"
   ],
   "metadata": {
    "collapsed": false,
    "ExecuteTime": {
     "end_time": "2024-02-26T03:46:26.837950400Z",
     "start_time": "2024-02-26T03:46:26.822027400Z"
    }
   },
   "id": "dad7c282f066bbef",
   "execution_count": 37
  },
  {
   "cell_type": "code",
   "outputs": [
    {
     "name": "stdout",
     "output_type": "stream",
     "text": [
      "Model: \"sequential_3\"\n",
      "_________________________________________________________________\n",
      " Layer (type)                Output Shape              Param #   \n",
      "=================================================================\n",
      " sequential_2 (Sequential)   (None, 128, 128, 3)       0         \n",
      "                                                                 \n",
      " conv2d_10 (Conv2D)          (None, 128, 128, 32)      896       \n",
      "                                                                 \n",
      " conv2d_11 (Conv2D)          (None, 126, 126, 32)      9248      \n",
      "                                                                 \n",
      " max_pooling2d_5 (MaxPooling  (None, 63, 63, 32)       0         \n",
      " 2D)                                                             \n",
      "                                                                 \n",
      " conv2d_12 (Conv2D)          (None, 63, 63, 64)        18496     \n",
      "                                                                 \n",
      " conv2d_13 (Conv2D)          (None, 61, 61, 64)        36928     \n",
      "                                                                 \n",
      " max_pooling2d_6 (MaxPooling  (None, 30, 30, 64)       0         \n",
      " 2D)                                                             \n",
      "                                                                 \n",
      " conv2d_14 (Conv2D)          (None, 30, 30, 128)       73856     \n",
      "                                                                 \n",
      " conv2d_15 (Conv2D)          (None, 28, 28, 128)       147584    \n",
      "                                                                 \n",
      " max_pooling2d_7 (MaxPooling  (None, 14, 14, 128)      0         \n",
      " 2D)                                                             \n",
      "                                                                 \n",
      " conv2d_16 (Conv2D)          (None, 14, 14, 256)       295168    \n",
      "                                                                 \n",
      " conv2d_17 (Conv2D)          (None, 12, 12, 256)       590080    \n",
      "                                                                 \n",
      " max_pooling2d_8 (MaxPooling  (None, 6, 6, 256)        0         \n",
      " 2D)                                                             \n",
      "                                                                 \n",
      " conv2d_18 (Conv2D)          (None, 6, 6, 512)         1180160   \n",
      "                                                                 \n",
      " conv2d_19 (Conv2D)          (None, 4, 4, 256)         1179904   \n",
      "                                                                 \n",
      " max_pooling2d_9 (MaxPooling  (None, 2, 2, 256)        0         \n",
      " 2D)                                                             \n",
      "                                                                 \n",
      " dropout_2 (Dropout)         (None, 2, 2, 256)         0         \n",
      "                                                                 \n",
      " flatten_1 (Flatten)         (None, 1024)              0         \n",
      "                                                                 \n",
      " dense_2 (Dense)             (None, 1500)              1537500   \n",
      "                                                                 \n",
      " dropout_3 (Dropout)         (None, 1500)              0         \n",
      "                                                                 \n",
      " dense_3 (Dense)             (None, 48)                72048     \n",
      "                                                                 \n",
      "=================================================================\n",
      "Total params: 5,141,868\n",
      "Trainable params: 5,141,868\n",
      "Non-trainable params: 0\n",
      "_________________________________________________________________\n"
     ]
    }
   ],
   "source": [
    "model.summary()"
   ],
   "metadata": {
    "collapsed": false,
    "ExecuteTime": {
     "end_time": "2024-02-26T03:46:29.164262700Z",
     "start_time": "2024-02-26T03:46:29.129323500Z"
    }
   },
   "id": "7afbf114a4458641",
   "execution_count": 38
  },
  {
   "cell_type": "code",
   "outputs": [
    {
     "name": "stdout",
     "output_type": "stream",
     "text": [
      "2249/2249 [==============================] - 2273s 1s/step - loss: 0.1818 - accuracy: 0.9399 - val_loss: 0.2204 - val_accuracy: 0.9265\n"
     ]
    }
   ],
   "source": [
    "training_history = model.fit(x=training_set,validation_data=validation_set, epochs=1)"
   ],
   "metadata": {
    "collapsed": false,
    "ExecuteTime": {
     "end_time": "2024-02-26T10:44:14.470341400Z",
     "start_time": "2024-02-26T10:06:21.566026800Z"
    }
   },
   "id": "1d05d45baf28dc23",
   "execution_count": 40
  },
  {
   "cell_type": "code",
   "outputs": [
    {
     "name": "stdout",
     "output_type": "stream",
     "text": [
      "2249/2249 [==============================] - 337s 150ms/step - loss: 0.1919 - accuracy: 0.9384\n"
     ]
    }
   ],
   "source": [
    "train_loss, train_acc = model.evaluate(training_set)"
   ],
   "metadata": {
    "collapsed": false,
    "ExecuteTime": {
     "end_time": "2024-02-26T10:59:35.267566100Z",
     "start_time": "2024-02-26T10:53:58.151927800Z"
    }
   },
   "id": "dbd230708a66e552",
   "execution_count": 41
  },
  {
   "cell_type": "code",
   "outputs": [
    {
     "name": "stdout",
     "output_type": "stream",
     "text": [
      "0.19191978871822357 0.9383589029312134\n"
     ]
    }
   ],
   "source": [
    "print(train_loss,train_acc)"
   ],
   "metadata": {
    "collapsed": false,
    "ExecuteTime": {
     "end_time": "2024-02-26T11:01:32.058994300Z",
     "start_time": "2024-02-26T11:01:32.037686900Z"
    }
   },
   "id": "2ab12bd931d621e5",
   "execution_count": 42
  },
  {
   "cell_type": "code",
   "outputs": [
    {
     "name": "stdout",
     "output_type": "stream",
     "text": [
      "585/585 [==============================] - 88s 150ms/step - loss: 0.2204 - accuracy: 0.9265\n"
     ]
    }
   ],
   "source": [
    "val_loss,val_acc = model.evaluate(validation_set)"
   ],
   "metadata": {
    "collapsed": false,
    "ExecuteTime": {
     "end_time": "2024-02-26T11:03:17.414594Z",
     "start_time": "2024-02-26T11:01:49.407970400Z"
    }
   },
   "id": "39db6ad41bc02352",
   "execution_count": 43
  },
  {
   "cell_type": "code",
   "outputs": [
    {
     "name": "stdout",
     "output_type": "stream",
     "text": [
      "0.22041581571102142 0.9264965653419495\n"
     ]
    }
   ],
   "source": [
    "print(val_loss, val_acc)"
   ],
   "metadata": {
    "collapsed": false,
    "ExecuteTime": {
     "end_time": "2024-02-26T11:03:59.006368Z",
     "start_time": "2024-02-26T11:03:58.988308800Z"
    }
   },
   "id": "e079e36d882de85e",
   "execution_count": 44
  },
  {
   "cell_type": "code",
   "outputs": [],
   "source": [
    "model.save(\"predict_DiseaseNew2.h5\")"
   ],
   "metadata": {
    "collapsed": false,
    "ExecuteTime": {
     "end_time": "2024-02-26T11:04:38.089998800Z",
     "start_time": "2024-02-26T11:04:38.008381Z"
    }
   },
   "id": "6ca2025ac1ef7591",
   "execution_count": 46
  },
  {
   "cell_type": "code",
   "outputs": [
    {
     "data": {
      "text/plain": "{'loss': [0.18184533715248108],\n 'accuracy': [0.9398735761642456],\n 'val_loss': [0.2204158455133438],\n 'val_accuracy': [0.9264965653419495]}"
     },
     "execution_count": 47,
     "metadata": {},
     "output_type": "execute_result"
    }
   ],
   "source": [
    "training_history.history"
   ],
   "metadata": {
    "collapsed": false,
    "ExecuteTime": {
     "end_time": "2024-02-26T11:04:56.341409500Z",
     "start_time": "2024-02-26T11:04:56.317245600Z"
    }
   },
   "id": "bb456d948f55b0b9",
   "execution_count": 47
  },
  {
   "cell_type": "code",
   "outputs": [
    {
     "data": {
      "text/plain": "['Apple___Apple_scab',\n 'Apple___Black_rot',\n 'Apple___Cedar_apple_rust',\n 'Apple___healthy',\n 'Blueberry___healthy',\n 'Cherry_(including_sour)___Powdery_mildew',\n 'Cherry_(including_sour)___healthy',\n 'Cinnamon healthy',\n 'Cinnamon leaf spot',\n 'Corn_(maize)___Cercospora_leaf_spot Gray_leaf_spot',\n 'Corn_(maize)___Common_rust_',\n 'Corn_(maize)___Northern_Leaf_Blight',\n 'Corn_(maize)___healthy',\n 'Grape___Black_rot',\n 'Grape___Esca_(Black_Measles)',\n 'Grape___Leaf_blight_(Isariopsis_Leaf_Spot)',\n 'Grape___healthy',\n 'Orange___Haunglongbing_(Citrus_greening)',\n 'Peach___Bacterial_spot',\n 'Peach___healthy',\n 'Pepper,_bell___Bacterial_spot',\n 'Pepper,_bell___healthy',\n 'Potato___Early_blight',\n 'Potato___Late_blight',\n 'Potato___healthy',\n 'Raspberry___healthy',\n 'Soybean___healthy',\n 'Squash___Powdery_mildew',\n 'Strawberry___Leaf_scorch',\n 'Strawberry___healthy',\n 'Tea algal leaf',\n 'Tea antrhacnose',\n 'Tea bird eye spot',\n 'Tea brown blight',\n 'Tea gray light',\n 'Tea healthy',\n 'Tea red leaf spot',\n 'Tea white spot',\n 'Tomato___Bacterial_spot',\n 'Tomato___Early_blight',\n 'Tomato___Late_blight',\n 'Tomato___Leaf_Mold',\n 'Tomato___Septoria_leaf_spot',\n 'Tomato___Spider_mites Two-spotted_spider_mite',\n 'Tomato___Target_Spot',\n 'Tomato___Tomato_Yellow_Leaf_Curl_Virus',\n 'Tomato___Tomato_mosaic_virus',\n 'Tomato___healthy']"
     },
     "execution_count": 49,
     "metadata": {},
     "output_type": "execute_result"
    }
   ],
   "source": [
    "class_name = validation_set.class_names\n",
    "class_name"
   ],
   "metadata": {
    "collapsed": false,
    "ExecuteTime": {
     "end_time": "2024-02-26T11:06:55.211756900Z",
     "start_time": "2024-02-26T11:06:55.176780600Z"
    }
   },
   "id": "b6e9596b78dcbbfe",
   "execution_count": 49
  },
  {
   "cell_type": "code",
   "outputs": [
    {
     "name": "stdout",
     "output_type": "stream",
     "text": [
      "Found 18693 files belonging to 48 classes.\n"
     ]
    }
   ],
   "source": [
    "test_set =  tf.keras.utils.image_dataset_from_directory(\n",
    "    \"valid\",\n",
    "    labels=\"inferred\",\n",
    "    label_mode=\"categorical\",\n",
    "    class_names=None,\n",
    "    color_mode=\"rgb\",\n",
    "    batch_size=32,\n",
    "    image_size=(128, 128),\n",
    "    shuffle=False,\n",
    "    seed=None,\n",
    "    validation_split=None,\n",
    "    subset=None,\n",
    "    interpolation=\"bilinear\",\n",
    "    follow_links=False,\n",
    "    crop_to_aspect_ratio=False,\n",
    "    \n",
    ")"
   ],
   "metadata": {
    "collapsed": false,
    "ExecuteTime": {
     "end_time": "2024-02-26T11:08:35.645376900Z",
     "start_time": "2024-02-26T11:08:34.698755900Z"
    }
   },
   "id": "b40bbe5a74a3dbac",
   "execution_count": 50
  },
  {
   "cell_type": "code",
   "outputs": [
    {
     "name": "stdout",
     "output_type": "stream",
     "text": [
      "585/585 [==============================] - 87s 149ms/step\n"
     ]
    },
    {
     "data": {
      "text/plain": "(array([[1.0000000e+00, 2.1348834e-10, 1.1130041e-16, ..., 8.4814673e-20,\n         6.6264062e-17, 1.8440719e-16],\n        [1.0000000e+00, 1.5661195e-11, 6.5076108e-19, ..., 9.9061846e-23,\n         9.8351144e-19, 5.1954098e-19],\n        [1.0000000e+00, 2.4330140e-09, 5.5977348e-16, ..., 6.0150868e-20,\n         9.5369670e-17, 2.0400505e-15],\n        ...,\n        [3.9117406e-08, 1.9946694e-12, 2.6233984e-09, ..., 1.4629629e-08,\n         4.6861556e-11, 9.9956852e-01],\n        [8.5698240e-08, 1.3330195e-13, 9.7242547e-10, ..., 4.1615220e-08,\n         1.6098073e-12, 9.9992049e-01],\n        [4.2031640e-13, 7.7275568e-21, 6.5430187e-15, ..., 4.5306539e-18,\n         5.9908242e-16, 9.9999976e-01]], dtype=float32),\n (18693, 48))"
     },
     "execution_count": 51,
     "metadata": {},
     "output_type": "execute_result"
    }
   ],
   "source": [
    "yPred = model.predict(test_set)\n",
    "yPred, yPred.shape"
   ],
   "metadata": {
    "collapsed": false,
    "ExecuteTime": {
     "end_time": "2024-02-26T11:10:10.174199400Z",
     "start_time": "2024-02-26T11:08:42.590503Z"
    }
   },
   "id": "8a574d8a8815f9d9",
   "execution_count": 51
  },
  {
   "cell_type": "code",
   "outputs": [],
   "source": [
    "predictedCategories = tf.argmax(yPred, axis=1)"
   ],
   "metadata": {
    "collapsed": false,
    "ExecuteTime": {
     "end_time": "2024-02-26T11:11:16.326737500Z",
     "start_time": "2024-02-26T11:11:16.305535Z"
    }
   },
   "id": "577caefe85167e0e",
   "execution_count": 52
  },
  {
   "cell_type": "code",
   "outputs": [
    {
     "data": {
      "text/plain": "<tf.Tensor: shape=(18693,), dtype=int64, numpy=array([ 0,  0,  0, ..., 47, 47, 47], dtype=int64)>"
     },
     "execution_count": 53,
     "metadata": {},
     "output_type": "execute_result"
    }
   ],
   "source": [
    "predictedCategories"
   ],
   "metadata": {
    "collapsed": false,
    "ExecuteTime": {
     "end_time": "2024-02-26T11:11:23.042703100Z",
     "start_time": "2024-02-26T11:11:23.022363900Z"
    }
   },
   "id": "2709dae99cc8ff63",
   "execution_count": 53
  },
  {
   "cell_type": "code",
   "outputs": [
    {
     "data": {
      "text/plain": "<tf.Tensor: shape=(18693, 48), dtype=float32, numpy=\narray([[1., 0., 0., ..., 0., 0., 0.],\n       [1., 0., 0., ..., 0., 0., 0.],\n       [1., 0., 0., ..., 0., 0., 0.],\n       ...,\n       [0., 0., 0., ..., 0., 0., 1.],\n       [0., 0., 0., ..., 0., 0., 1.],\n       [0., 0., 0., ..., 0., 0., 1.]], dtype=float32)>"
     },
     "execution_count": 54,
     "metadata": {},
     "output_type": "execute_result"
    }
   ],
   "source": [
    "trueCategories = tf.concat([y for x,y in test_set],axis = 0)\n",
    "trueCategories"
   ],
   "metadata": {
    "collapsed": false,
    "ExecuteTime": {
     "end_time": "2024-02-26T11:11:40.941378400Z",
     "start_time": "2024-02-26T11:11:34.248774800Z"
    }
   },
   "id": "88452d29dfa37827",
   "execution_count": 54
  },
  {
   "cell_type": "code",
   "outputs": [
    {
     "data": {
      "text/plain": "<tf.Tensor: shape=(18693,), dtype=int64, numpy=array([ 0,  0,  0, ..., 47, 47, 47], dtype=int64)>"
     },
     "execution_count": 55,
     "metadata": {},
     "output_type": "execute_result"
    }
   ],
   "source": [
    "yTrue = tf.argmax(trueCategories,axis=1)\n",
    "yTrue"
   ],
   "metadata": {
    "collapsed": false,
    "ExecuteTime": {
     "end_time": "2024-02-26T11:11:55.282998700Z",
     "start_time": "2024-02-26T11:11:55.253474800Z"
    }
   },
   "id": "a6bc502a9360ff7",
   "execution_count": 55
  },
  {
   "cell_type": "code",
   "outputs": [],
   "source": [
    "from sklearn.metrics import classification_report"
   ],
   "metadata": {
    "collapsed": false,
    "ExecuteTime": {
     "end_time": "2024-02-26T11:12:06.764570200Z",
     "start_time": "2024-02-26T11:12:06.119115900Z"
    }
   },
   "id": "b553bf05f1d81cff",
   "execution_count": 56
  },
  {
   "cell_type": "code",
   "outputs": [
    {
     "data": {
      "text/plain": "'                                                    precision    recall  f1-score   support\\n\\n                                Apple___Apple_scab       0.97      0.98      0.97       504\\n                                 Apple___Black_rot       0.93      1.00      0.96       497\\n                          Apple___Cedar_apple_rust       0.93      0.98      0.96       440\\n                                   Apple___healthy       0.96      0.96      0.96       502\\n                               Blueberry___healthy       0.98      0.90      0.94       454\\n          Cherry_(including_sour)___Powdery_mildew       0.97      0.92      0.94       421\\n                 Cherry_(including_sour)___healthy       0.99      0.94      0.96       456\\n                                  Cinnamon healthy       0.92      0.88      0.90       131\\n                                Cinnamon leaf spot       0.89      0.74      0.81        85\\nCorn_(maize)___Cercospora_leaf_spot Gray_leaf_spot       0.98      0.81      0.89       410\\n                       Corn_(maize)___Common_rust_       0.97      1.00      0.98       477\\n               Corn_(maize)___Northern_Leaf_Blight       0.91      0.96      0.93       477\\n                            Corn_(maize)___healthy       1.00      0.98      0.99       465\\n                                 Grape___Black_rot       0.91      0.98      0.94       472\\n                      Grape___Esca_(Black_Measles)       0.97      0.95      0.96       480\\n        Grape___Leaf_blight_(Isariopsis_Leaf_Spot)       0.97      0.97      0.97       430\\n                                   Grape___healthy       0.99      0.95      0.97       423\\n          Orange___Haunglongbing_(Citrus_greening)       0.99      0.97      0.98       503\\n                            Peach___Bacterial_spot       0.93      0.92      0.93       459\\n                                   Peach___healthy       0.97      0.99      0.98       432\\n                     Pepper,_bell___Bacterial_spot       0.91      0.95      0.93       478\\n                            Pepper,_bell___healthy       0.86      0.96      0.91       497\\n                             Potato___Early_blight       0.97      1.00      0.98       485\\n                              Potato___Late_blight       0.92      0.96      0.94       485\\n                                  Potato___healthy       0.82      0.98      0.89       456\\n                               Raspberry___healthy       0.94      0.97      0.95       445\\n                                 Soybean___healthy       0.97      0.86      0.91       505\\n                           Squash___Powdery_mildew       0.98      0.89      0.93       434\\n                          Strawberry___Leaf_scorch       0.97      0.98      0.98       444\\n                              Strawberry___healthy       0.93      1.00      0.97       456\\n                                    Tea algal leaf       0.63      0.75      0.69       113\\n                                   Tea antrhacnose       0.71      0.22      0.34       100\\n                                 Tea bird eye spot       0.54      0.83      0.66       100\\n                                  Tea brown blight       0.77      0.41      0.53       113\\n                                    Tea gray light       0.61      0.68      0.64       100\\n                                       Tea healthy       0.98      0.87      0.92        94\\n                                 Tea red leaf spot       0.91      0.99      0.95       143\\n                                    Tea white spot       0.60      0.64      0.62       142\\n                           Tomato___Bacterial_spot       0.95      0.77      0.85       425\\n                             Tomato___Early_blight       0.86      0.96      0.91       480\\n                              Tomato___Late_blight       0.95      0.84      0.90       463\\n                                Tomato___Leaf_Mold       0.99      0.90      0.94       470\\n                       Tomato___Septoria_leaf_spot       0.88      0.92      0.90       436\\n     Tomato___Spider_mites Two-spotted_spider_mite       0.91      0.82      0.86       435\\n                              Tomato___Target_Spot       0.83      0.91      0.87       457\\n            Tomato___Tomato_Yellow_Leaf_Curl_Virus       0.98      0.90      0.94       490\\n                      Tomato___Tomato_mosaic_virus       0.96      0.98      0.97       448\\n                                  Tomato___healthy       0.85      0.99      0.91       481\\n\\n                                          accuracy                           0.93     18693\\n                                         macro avg       0.90      0.89      0.89     18693\\n                                      weighted avg       0.93      0.93      0.93     18693\\n'"
     },
     "execution_count": 57,
     "metadata": {},
     "output_type": "execute_result"
    }
   ],
   "source": [
    "classification_report(yTrue, predictedCategories, target_names= class_name)"
   ],
   "metadata": {
    "collapsed": false,
    "ExecuteTime": {
     "end_time": "2024-02-26T11:12:16.718516600Z",
     "start_time": "2024-02-26T11:12:16.682216600Z"
    }
   },
   "id": "4a1ae3dfa85ae34a",
   "execution_count": 57
  }
 ],
 "metadata": {
  "kernelspec": {
   "display_name": "Python 3",
   "language": "python",
   "name": "python3"
  },
  "language_info": {
   "codemirror_mode": {
    "name": "ipython",
    "version": 2
   },
   "file_extension": ".py",
   "mimetype": "text/x-python",
   "name": "python",
   "nbconvert_exporter": "python",
   "pygments_lexer": "ipython2",
   "version": "2.7.6"
  }
 },
 "nbformat": 4,
 "nbformat_minor": 5
}
