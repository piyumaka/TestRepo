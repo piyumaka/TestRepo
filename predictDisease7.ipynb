{
 "cells": [
  {
   "cell_type": "code",
   "execution_count": 1,
   "id": "initial_id",
   "metadata": {
    "collapsed": true,
    "ExecuteTime": {
     "end_time": "2024-02-25T11:43:58.170118900Z",
     "start_time": "2024-02-25T11:43:52.641651500Z"
    }
   },
   "outputs": [],
   "source": [
    "import tensorflow as tf\n",
    "import pandas as pd\n",
    "import seaborn as sns\n",
    "import matplotlib.pyplot as plt\n",
    "\n"
   ]
  },
  {
   "cell_type": "code",
   "outputs": [
    {
     "name": "stdout",
     "output_type": "stream",
     "text": [
      "Found 71965 files belonging to 48 classes.\n"
     ]
    }
   ],
   "source": [
    "training_set = tf.keras.utils.image_dataset_from_directory(\n",
    "    \"train\",\n",
    "    labels=\"inferred\",\n",
    "    label_mode=\"categorical\",\n",
    "    class_names=None,\n",
    "    color_mode=\"rgb\",\n",
    "    batch_size=32,\n",
    "    image_size=(128, 128),\n",
    "    shuffle=True,\n",
    "    seed=None,\n",
    "    validation_split=None,\n",
    "    subset=None,\n",
    "    interpolation=\"bilinear\",\n",
    "    follow_links=False,\n",
    "    crop_to_aspect_ratio=False,\n",
    "    \n",
    ")"
   ],
   "metadata": {
    "collapsed": false,
    "ExecuteTime": {
     "end_time": "2024-02-25T12:00:28.650603800Z",
     "start_time": "2024-02-25T12:00:24.050035500Z"
    }
   },
   "id": "368445aea7776b69",
   "execution_count": 2
  },
  {
   "cell_type": "code",
   "outputs": [
    {
     "name": "stdout",
     "output_type": "stream",
     "text": [
      "Found 18693 files belonging to 48 classes.\n"
     ]
    }
   ],
   "source": [
    "validation_set = tf.keras.utils.image_dataset_from_directory(\n",
    "    \"valid\",\n",
    "    labels=\"inferred\",\n",
    "    label_mode=\"categorical\",\n",
    "    class_names=None,\n",
    "    color_mode=\"rgb\",\n",
    "    batch_size=32,\n",
    "    image_size=(128, 128),\n",
    "    shuffle=True,\n",
    "    seed=None,\n",
    "    validation_split=None,\n",
    "    subset=None,\n",
    "    interpolation=\"bilinear\",\n",
    "    follow_links=False,\n",
    "    crop_to_aspect_ratio=False,\n",
    "    \n",
    ")"
   ],
   "metadata": {
    "collapsed": false,
    "ExecuteTime": {
     "end_time": "2024-02-25T12:00:45.454039500Z",
     "start_time": "2024-02-25T12:00:44.495554100Z"
    }
   },
   "id": "b0d7f3a8d16d35e7",
   "execution_count": 3
  },
  {
   "cell_type": "code",
   "outputs": [
    {
     "data": {
      "text/plain": "<BatchDataset element_spec=(TensorSpec(shape=(None, 128, 128, 3), dtype=tf.float32, name=None), TensorSpec(shape=(None, 48), dtype=tf.float32, name=None))>"
     },
     "execution_count": 4,
     "metadata": {},
     "output_type": "execute_result"
    }
   ],
   "source": [
    "training_set"
   ],
   "metadata": {
    "collapsed": false,
    "ExecuteTime": {
     "end_time": "2024-02-25T12:01:48.157472900Z",
     "start_time": "2024-02-25T12:01:48.126615Z"
    }
   },
   "id": "f1489b8f0ce2765a",
   "execution_count": 4
  },
  {
   "cell_type": "code",
   "outputs": [
    {
     "name": "stdout",
     "output_type": "stream",
     "text": [
      "tf.Tensor(\n",
      "[[[[101.5   91.    96.5 ]\n",
      "   [104.5   94.5   99.5 ]\n",
      "   [100.    90.    95.  ]\n",
      "   ...\n",
      "   [ 85.5   74.5   78.5 ]\n",
      "   [ 87.    78.    80.  ]\n",
      "   [ 89.5   79.5   82.5 ]]\n",
      "\n",
      "  [[193.75 182.75 188.75]\n",
      "   [194.5  183.5  189.5 ]\n",
      "   [188.5  177.5  183.5 ]\n",
      "   ...\n",
      "   [163.5  150.75 155.  ]\n",
      "   [170.5  157.75 162.  ]\n",
      "   [159.25 146.5  150.75]]\n",
      "\n",
      "  [[183.25 172.25 178.25]\n",
      "   [197.   186.5  192.5 ]\n",
      "   [202.5  191.5  197.5 ]\n",
      "   ...\n",
      "   [166.25 149.25 155.  ]\n",
      "   [163.   146.   151.75]\n",
      "   [169.   152.   157.75]]\n",
      "\n",
      "  ...\n",
      "\n",
      "  [[174.75 163.75 169.75]\n",
      "   [182.25 171.25 177.25]\n",
      "   [192.75 181.75 187.75]\n",
      "   ...\n",
      "   [139.   124.   131.  ]\n",
      "   [119.75 104.75 111.75]\n",
      "   [135.   120.   127.  ]]\n",
      "\n",
      "  [[198.25 187.25 193.25]\n",
      "   [186.5  175.5  181.5 ]\n",
      "   [183.   172.   178.  ]\n",
      "   ...\n",
      "   [123.25 108.25 115.25]\n",
      "   [147.5  132.5  139.5 ]\n",
      "   [150.75 135.75 142.75]]\n",
      "\n",
      "  [[178.   167.   173.  ]\n",
      "   [179.5  168.5  174.5 ]\n",
      "   [186.   175.   181.  ]\n",
      "   ...\n",
      "   [156.   141.   148.  ]\n",
      "   [138.5  123.5  130.5 ]\n",
      "   [148.5  133.5  140.5 ]]]\n",
      "\n",
      "\n",
      " [[[ 82.25  77.5   76.  ]\n",
      "   [162.75 157.75 154.75]\n",
      "   [164.5  159.5  156.5 ]\n",
      "   ...\n",
      "   [141.25 133.25 131.25]\n",
      "   [140.5  132.5  130.5 ]\n",
      "   [136.25 128.25 126.25]]\n",
      "\n",
      "  [[ 84.    79.    76.  ]\n",
      "   [159.25 154.25 151.25]\n",
      "   [163.   158.   155.  ]\n",
      "   ...\n",
      "   [137.5  129.5  127.5 ]\n",
      "   [140.5  132.5  130.5 ]\n",
      "   [142.   134.   132.  ]]\n",
      "\n",
      "  [[ 78.5   73.75  72.25]\n",
      "   [153.25 148.25 145.25]\n",
      "   [156.75 151.75 148.75]\n",
      "   ...\n",
      "   [139.   131.   129.  ]\n",
      "   [139.5  131.5  129.5 ]\n",
      "   [139.25 131.25 129.25]]\n",
      "\n",
      "  ...\n",
      "\n",
      "  [[ 77.5   72.75  71.  ]\n",
      "   [151.5  146.5  143.5 ]\n",
      "   [142.75 137.75 134.75]\n",
      "   ...\n",
      "   [100.25  95.25  92.25]\n",
      "   [ 96.5   91.5   88.5 ]\n",
      "   [105.75 100.75  97.75]]\n",
      "\n",
      "  [[ 76.    71.5   70.  ]\n",
      "   [153.75 148.75 145.75]\n",
      "   [142.5  137.5  134.5 ]\n",
      "   ...\n",
      "   [ 95.25  90.25  87.25]\n",
      "   [102.    97.    94.  ]\n",
      "   [103.5   98.5   95.5 ]]\n",
      "\n",
      "  [[ 78.75  73.75  71.5 ]\n",
      "   [147.5  142.5  139.5 ]\n",
      "   [134.5  129.5  126.5 ]\n",
      "   ...\n",
      "   [ 99.75  94.75  91.75]\n",
      "   [ 99.75  94.75  91.75]\n",
      "   [ 99.5   94.5   91.5 ]]]\n",
      "\n",
      "\n",
      " [[[158.25 145.25 154.25]\n",
      "   [155.75 142.75 151.75]\n",
      "   [160.   147.   156.  ]\n",
      "   ...\n",
      "   [169.5  153.5  163.5 ]\n",
      "   [159.   143.   153.  ]\n",
      "   [174.   159.   169.  ]]\n",
      "\n",
      "  [[155.5  142.5  151.5 ]\n",
      "   [151.   138.   147.  ]\n",
      "   [160.25 147.25 156.25]\n",
      "   ...\n",
      "   [169.   153.   163.  ]\n",
      "   [142.5  126.5  136.5 ]\n",
      "   [151.25 135.25 145.25]]\n",
      "\n",
      "  [[154.5  141.5  150.5 ]\n",
      "   [157.25 144.25 153.25]\n",
      "   [154.   141.   150.  ]\n",
      "   ...\n",
      "   [173.75 157.75 167.75]\n",
      "   [144.5  128.5  138.5 ]\n",
      "   [144.25 128.25 138.25]]\n",
      "\n",
      "  ...\n",
      "\n",
      "  [[173.5  160.5  167.5 ]\n",
      "   [179.75 166.75 173.75]\n",
      "   [177.5  164.5  171.5 ]\n",
      "   ...\n",
      "   [164.5  149.5  154.5 ]\n",
      "   [169.   154.   159.  ]\n",
      "   [166.75 151.75 156.75]]\n",
      "\n",
      "  [[164.75 151.75 158.75]\n",
      "   [176.5  163.5  170.5 ]\n",
      "   [179.75 166.75 173.75]\n",
      "   ...\n",
      "   [161.75 146.75 151.75]\n",
      "   [158.75 143.75 148.75]\n",
      "   [179.   164.   169.  ]]\n",
      "\n",
      "  [[181.   168.   175.  ]\n",
      "   [175.   162.   169.  ]\n",
      "   [173.25 160.25 167.25]\n",
      "   ...\n",
      "   [151.25 136.25 141.25]\n",
      "   [161.75 146.75 151.75]\n",
      "   [193.   178.   183.  ]]]\n",
      "\n",
      "\n",
      " ...\n",
      "\n",
      "\n",
      " [[[154.5  147.5  155.5 ]\n",
      "   [164.25 157.25 165.25]\n",
      "   [154.   147.   155.  ]\n",
      "   ...\n",
      "   [124.   113.   119.  ]\n",
      "   [118.25 107.25 113.25]\n",
      "   [121.5  110.5  116.5 ]]\n",
      "\n",
      "  [[160.25 153.25 161.25]\n",
      "   [159.5  152.5  160.5 ]\n",
      "   [156.   149.   157.  ]\n",
      "   ...\n",
      "   [123.   112.   118.  ]\n",
      "   [114.25 103.25 109.25]\n",
      "   [120.   109.   115.  ]]\n",
      "\n",
      "  [[159.5  152.5  160.5 ]\n",
      "   [155.5  148.5  156.5 ]\n",
      "   [152.   145.   153.  ]\n",
      "   ...\n",
      "   [112.   101.   107.  ]\n",
      "   [120.25 109.25 115.25]\n",
      "   [126.75 115.75 121.75]]\n",
      "\n",
      "  ...\n",
      "\n",
      "  [[150.   140.   148.  ]\n",
      "   [143.   133.   141.  ]\n",
      "   [144.75 134.75 142.75]\n",
      "   ...\n",
      "   [121.5  110.5  116.5 ]\n",
      "   [123.   112.   118.  ]\n",
      "   [120.75 109.75 115.75]]\n",
      "\n",
      "  [[150.25 140.25 148.25]\n",
      "   [145.   135.   143.  ]\n",
      "   [154.5  144.5  152.5 ]\n",
      "   ...\n",
      "   [112.25 101.25 107.25]\n",
      "   [111.25 100.25 106.25]\n",
      "   [112.25 101.25 107.25]]\n",
      "\n",
      "  [[146.5  136.5  144.5 ]\n",
      "   [148.   138.   146.  ]\n",
      "   [148.5  138.5  146.5 ]\n",
      "   ...\n",
      "   [107.25  96.25 102.25]\n",
      "   [110.5   99.5  105.5 ]\n",
      "   [113.   102.   108.  ]]]\n",
      "\n",
      "\n",
      " [[[154.75 133.75 130.75]\n",
      "   [169.75 148.75 145.75]\n",
      "   [157.   136.   133.  ]\n",
      "   ...\n",
      "   [183.5  165.5  163.5 ]\n",
      "   [196.5  178.5  176.5 ]\n",
      "   [160.25 142.25 140.25]]\n",
      "\n",
      "  [[144.75 123.75 120.75]\n",
      "   [154.25 133.25 130.25]\n",
      "   [171.25 150.25 147.25]\n",
      "   ...\n",
      "   [179.75 161.75 159.75]\n",
      "   [189.   171.   169.  ]\n",
      "   [176.25 158.25 156.25]]\n",
      "\n",
      "  [[156.   135.   132.  ]\n",
      "   [162.75 141.75 138.75]\n",
      "   [169.   148.   145.  ]\n",
      "   ...\n",
      "   [188.   170.   168.  ]\n",
      "   [168.5  150.5  148.5 ]\n",
      "   [172.   154.   152.  ]]\n",
      "\n",
      "  ...\n",
      "\n",
      "  [[145.5  125.5  126.5 ]\n",
      "   [147.25 127.25 128.25]\n",
      "   [153.   133.   134.  ]\n",
      "   ...\n",
      "   [163.75 143.75 144.75]\n",
      "   [162.5  142.5  143.5 ]\n",
      "   [162.   142.   143.  ]]\n",
      "\n",
      "  [[158.5  138.5  139.5 ]\n",
      "   [160.25 140.25 141.25]\n",
      "   [157.75 137.75 138.75]\n",
      "   ...\n",
      "   [167.   147.   148.  ]\n",
      "   [168.   148.   149.  ]\n",
      "   [169.75 149.75 150.75]]\n",
      "\n",
      "  [[155.   135.   136.  ]\n",
      "   [156.   136.   137.  ]\n",
      "   [152.   132.   133.  ]\n",
      "   ...\n",
      "   [162.75 142.75 143.75]\n",
      "   [164.75 144.75 145.75]\n",
      "   [165.25 145.25 146.25]]]\n",
      "\n",
      "\n",
      " [[[205.5  191.5  190.5 ]\n",
      "   [211.   197.   196.  ]\n",
      "   [206.5  192.5  191.5 ]\n",
      "   ...\n",
      "   [178.   160.   158.  ]\n",
      "   [216.5  198.5  196.5 ]\n",
      "   [202.75 184.75 182.75]]\n",
      "\n",
      "  [[215.   201.   200.  ]\n",
      "   [225.25 211.25 210.25]\n",
      "   [209.75 195.75 194.75]\n",
      "   ...\n",
      "   [191.75 173.75 171.75]\n",
      "   [194.5  176.5  174.5 ]\n",
      "   [196.   178.   176.  ]]\n",
      "\n",
      "  [[207.   193.   192.  ]\n",
      "   [218.25 204.25 203.25]\n",
      "   [209.5  195.5  194.5 ]\n",
      "   ...\n",
      "   [182.75 164.75 162.75]\n",
      "   [178.75 160.75 158.75]\n",
      "   [207.25 189.25 187.25]]\n",
      "\n",
      "  ...\n",
      "\n",
      "  [[245.25 240.25 236.25]\n",
      "   [245.5  240.5  236.5 ]\n",
      "   [246.5  241.5  237.5 ]\n",
      "   ...\n",
      "   [241.25 230.25 226.25]\n",
      "   [237.5  226.5  222.5 ]\n",
      "   [236.5  225.5  221.5 ]]\n",
      "\n",
      "  [[246.75 241.75 237.75]\n",
      "   [243.75 238.75 234.75]\n",
      "   [243.   238.   234.  ]\n",
      "   ...\n",
      "   [244.25 233.25 229.25]\n",
      "   [240.   229.25 225.25]\n",
      "   [216.75 205.75 201.75]]\n",
      "\n",
      "  [[241.5  236.5  232.5 ]\n",
      "   [239.25 234.25 230.25]\n",
      "   [241.   236.   232.  ]\n",
      "   ...\n",
      "   [230.75 219.75 215.75]\n",
      "   [228.25 217.25 213.25]\n",
      "   [228.   217.   213.  ]]]], shape=(32, 128, 128, 3), dtype=float32) (32, 48)\n",
      "tf.Tensor(\n",
      "[[0. 0. 0. ... 0. 0. 0.]\n",
      " [0. 0. 1. ... 0. 0. 0.]\n",
      " [0. 0. 0. ... 0. 0. 0.]\n",
      " ...\n",
      " [0. 0. 0. ... 0. 0. 0.]\n",
      " [0. 0. 0. ... 0. 0. 0.]\n",
      " [0. 0. 0. ... 0. 0. 0.]], shape=(32, 48), dtype=float32) (32, 48)\n"
     ]
    }
   ],
   "source": [
    "for x,y in training_set:\n",
    "    print(x,y.shape)\n",
    "    print(y,y.shape)\n",
    "    break"
   ],
   "metadata": {
    "collapsed": false,
    "ExecuteTime": {
     "end_time": "2024-02-25T12:08:04.142125900Z",
     "start_time": "2024-02-25T12:08:03.653416100Z"
    }
   },
   "id": "269d11a13e1e110d",
   "execution_count": 5
  },
  {
   "cell_type": "code",
   "outputs": [],
   "source": [
    "from tensorflow.keras.layers import Conv2D, MaxPool2D, Flatten, Dense, Dropout\n",
    "from tensorflow.keras.models import Sequential"
   ],
   "metadata": {
    "collapsed": false,
    "ExecuteTime": {
     "end_time": "2024-02-25T12:18:29.176146Z",
     "start_time": "2024-02-25T12:18:29.165139800Z"
    }
   },
   "id": "7709385a997fdda1",
   "execution_count": 6
  },
  {
   "cell_type": "code",
   "outputs": [],
   "source": [
    "model = Sequential()"
   ],
   "metadata": {
    "collapsed": false,
    "ExecuteTime": {
     "end_time": "2024-02-25T12:18:43.086891200Z",
     "start_time": "2024-02-25T12:18:43.064893600Z"
    }
   },
   "id": "93cb080c783674f6",
   "execution_count": 7
  },
  {
   "cell_type": "code",
   "outputs": [],
   "source": [
    "model.add(Conv2D(filters = 32, kernel_size=3, padding = \"same\", activation = \"relu\", input_shape=(128,128,3)))\n",
    "model.add(Conv2D(filters=32, kernel_size=3, activation=\"relu\"))\n",
    "model.add(MaxPool2D(pool_size=2, strides=2))"
   ],
   "metadata": {
    "collapsed": false,
    "ExecuteTime": {
     "end_time": "2024-02-25T12:25:39.437289300Z",
     "start_time": "2024-02-25T12:25:39.380144700Z"
    }
   },
   "id": "35a698de2501ed57",
   "execution_count": 8
  },
  {
   "cell_type": "code",
   "outputs": [],
   "source": [
    "model.add(Conv2D(filters = 64, kernel_size=3, padding = \"same\", activation = \"relu\"))\n",
    "model.add(Conv2D(filters=64, kernel_size=3, activation=\"relu\"))\n",
    "model.add(MaxPool2D(pool_size=2, strides=2))"
   ],
   "metadata": {
    "collapsed": false,
    "ExecuteTime": {
     "end_time": "2024-02-25T12:25:41.722904100Z",
     "start_time": "2024-02-25T12:25:41.680890200Z"
    }
   },
   "id": "68f0a41bf8516fff",
   "execution_count": 9
  },
  {
   "cell_type": "code",
   "outputs": [],
   "source": [
    "model.add(Conv2D(filters = 128, kernel_size=3, padding = \"same\", activation = \"relu\"))\n",
    "model.add(Conv2D(filters=128, kernel_size=3, activation=\"relu\"))\n",
    "model.add(MaxPool2D(pool_size=2, strides=2))"
   ],
   "metadata": {
    "collapsed": false,
    "ExecuteTime": {
     "end_time": "2024-02-25T12:25:43.551043300Z",
     "start_time": "2024-02-25T12:25:43.506052Z"
    }
   },
   "id": "1ae71bc75244d63e",
   "execution_count": 10
  },
  {
   "cell_type": "code",
   "outputs": [],
   "source": [
    "model.add(Conv2D(filters = 256, kernel_size=3, padding = \"same\", activation = \"relu\"))\n",
    "model.add(Conv2D(filters=256, kernel_size=3, activation=\"relu\"))\n",
    "model.add(MaxPool2D(pool_size=2, strides=2))"
   ],
   "metadata": {
    "collapsed": false,
    "ExecuteTime": {
     "end_time": "2024-02-25T12:25:45.272865Z",
     "start_time": "2024-02-25T12:25:45.231865300Z"
    }
   },
   "id": "9e48399e757372dd",
   "execution_count": 11
  },
  {
   "cell_type": "code",
   "outputs": [],
   "source": [
    "model.add(Conv2D(filters = 512, kernel_size=3, padding = \"same\", activation = \"relu\"))\n",
    "model.add(Conv2D(filters=256, kernel_size=3, activation=\"relu\"))\n",
    "model.add(MaxPool2D(pool_size=2, strides=2))"
   ],
   "metadata": {
    "collapsed": false,
    "ExecuteTime": {
     "end_time": "2024-02-25T12:25:46.914737Z",
     "start_time": "2024-02-25T12:25:46.865209300Z"
    }
   },
   "id": "7cb04d9ddbfefcc5",
   "execution_count": 12
  },
  {
   "cell_type": "code",
   "outputs": [],
   "source": [
    "model.add(Dropout(0.25))"
   ],
   "metadata": {
    "collapsed": false,
    "ExecuteTime": {
     "end_time": "2024-02-25T12:25:48.475568500Z",
     "start_time": "2024-02-25T12:25:48.457564700Z"
    }
   },
   "id": "1ade6a85264896e1",
   "execution_count": 13
  },
  {
   "cell_type": "code",
   "outputs": [],
   "source": [
    "model.add(Flatten())"
   ],
   "metadata": {
    "collapsed": false,
    "ExecuteTime": {
     "end_time": "2024-02-25T12:25:51.130335100Z",
     "start_time": "2024-02-25T12:25:51.118335700Z"
    }
   },
   "id": "63ef5b3cc6c00e69",
   "execution_count": 14
  },
  {
   "cell_type": "code",
   "outputs": [],
   "source": [
    "model.add(Dense(units=1500, activation=\"relu\"))"
   ],
   "metadata": {
    "collapsed": false,
    "ExecuteTime": {
     "end_time": "2024-02-25T12:25:52.732996100Z",
     "start_time": "2024-02-25T12:25:52.692991500Z"
    }
   },
   "id": "802ffa2237807abf",
   "execution_count": 15
  },
  {
   "cell_type": "code",
   "outputs": [],
   "source": [
    "model.add(Dropout(0.4))"
   ],
   "metadata": {
    "collapsed": false,
    "ExecuteTime": {
     "end_time": "2024-02-25T12:26:04.935178700Z",
     "start_time": "2024-02-25T12:26:04.918175700Z"
    }
   },
   "id": "79c845e95b10f2f0",
   "execution_count": 16
  },
  {
   "cell_type": "code",
   "outputs": [],
   "source": [
    "model.add(Dense(units=48, activation=\"softmax\"))"
   ],
   "metadata": {
    "collapsed": false,
    "ExecuteTime": {
     "end_time": "2024-02-25T12:26:07.981551600Z",
     "start_time": "2024-02-25T12:26:07.951554Z"
    }
   },
   "id": "2b8126e9c0bb69df",
   "execution_count": 17
  },
  {
   "cell_type": "code",
   "outputs": [],
   "source": [
    "model.compile(optimizer=tf.keras.optimizers.legacy.Adam(learning_rate=0.0001),loss=\"categorical_crossentropy\", metrics = [\"accuracy\"])"
   ],
   "metadata": {
    "collapsed": false,
    "ExecuteTime": {
     "end_time": "2024-02-25T12:28:09.228996100Z",
     "start_time": "2024-02-25T12:28:09.186994300Z"
    }
   },
   "id": "113eb0247cced50e",
   "execution_count": 18
  },
  {
   "cell_type": "code",
   "outputs": [
    {
     "name": "stdout",
     "output_type": "stream",
     "text": [
      "Model: \"sequential\"\n",
      "_________________________________________________________________\n",
      " Layer (type)                Output Shape              Param #   \n",
      "=================================================================\n",
      " conv2d (Conv2D)             (None, 128, 128, 32)      896       \n",
      "                                                                 \n",
      " conv2d_1 (Conv2D)           (None, 126, 126, 32)      9248      \n",
      "                                                                 \n",
      " max_pooling2d (MaxPooling2D  (None, 63, 63, 32)       0         \n",
      " )                                                               \n",
      "                                                                 \n",
      " conv2d_2 (Conv2D)           (None, 63, 63, 64)        18496     \n",
      "                                                                 \n",
      " conv2d_3 (Conv2D)           (None, 61, 61, 64)        36928     \n",
      "                                                                 \n",
      " max_pooling2d_1 (MaxPooling  (None, 30, 30, 64)       0         \n",
      " 2D)                                                             \n",
      "                                                                 \n",
      " conv2d_4 (Conv2D)           (None, 30, 30, 128)       73856     \n",
      "                                                                 \n",
      " conv2d_5 (Conv2D)           (None, 28, 28, 128)       147584    \n",
      "                                                                 \n",
      " max_pooling2d_2 (MaxPooling  (None, 14, 14, 128)      0         \n",
      " 2D)                                                             \n",
      "                                                                 \n",
      " conv2d_6 (Conv2D)           (None, 14, 14, 256)       295168    \n",
      "                                                                 \n",
      " conv2d_7 (Conv2D)           (None, 12, 12, 256)       590080    \n",
      "                                                                 \n",
      " max_pooling2d_3 (MaxPooling  (None, 6, 6, 256)        0         \n",
      " 2D)                                                             \n",
      "                                                                 \n",
      " conv2d_8 (Conv2D)           (None, 6, 6, 512)         1180160   \n",
      "                                                                 \n",
      " conv2d_9 (Conv2D)           (None, 4, 4, 256)         1179904   \n",
      "                                                                 \n",
      " max_pooling2d_4 (MaxPooling  (None, 2, 2, 256)        0         \n",
      " 2D)                                                             \n",
      "                                                                 \n",
      " dropout (Dropout)           (None, 2, 2, 256)         0         \n",
      "                                                                 \n",
      " flatten (Flatten)           (None, 1024)              0         \n",
      "                                                                 \n",
      " dense (Dense)               (None, 1500)              1537500   \n",
      "                                                                 \n",
      " dropout_1 (Dropout)         (None, 1500)              0         \n",
      "                                                                 \n",
      " dense_1 (Dense)             (None, 48)                72048     \n",
      "                                                                 \n",
      "=================================================================\n",
      "Total params: 5,141,868\n",
      "Trainable params: 5,141,868\n",
      "Non-trainable params: 0\n",
      "_________________________________________________________________\n"
     ]
    }
   ],
   "source": [
    "model.summary()"
   ],
   "metadata": {
    "collapsed": false,
    "ExecuteTime": {
     "end_time": "2024-02-25T12:28:17.694774100Z",
     "start_time": "2024-02-25T12:28:17.646640700Z"
    }
   },
   "id": "d2712b900b0973bd",
   "execution_count": 19
  },
  {
   "cell_type": "code",
   "outputs": [
    {
     "name": "stdout",
     "output_type": "stream",
     "text": [
      "Epoch 1/10\n",
      "2249/2249 [==============================] - 2256s 1s/step - loss: 1.6019 - accuracy: 0.5409 - val_loss: 0.6054 - val_accuracy: 0.8081\n",
      "Epoch 2/10\n",
      "2249/2249 [==============================] - 2151s 956ms/step - loss: 0.5432 - accuracy: 0.8291 - val_loss: 0.3698 - val_accuracy: 0.8800\n",
      "Epoch 3/10\n",
      "2249/2249 [==============================] - 2147s 955ms/step - loss: 0.3244 - accuracy: 0.8965 - val_loss: 0.2347 - val_accuracy: 0.9260\n",
      "Epoch 4/10\n",
      "2249/2249 [==============================] - 2155s 958ms/step - loss: 0.2251 - accuracy: 0.9269 - val_loss: 0.2095 - val_accuracy: 0.9294\n",
      "Epoch 5/10\n",
      "2249/2249 [==============================] - 2152s 957ms/step - loss: 0.1689 - accuracy: 0.9436 - val_loss: 0.2142 - val_accuracy: 0.9303\n",
      "Epoch 6/10\n",
      "2249/2249 [==============================] - 2144s 953ms/step - loss: 0.1323 - accuracy: 0.9557 - val_loss: 0.2763 - val_accuracy: 0.9186\n",
      "Epoch 7/10\n",
      "2249/2249 [==============================] - 2148s 955ms/step - loss: 0.1061 - accuracy: 0.9642 - val_loss: 0.1714 - val_accuracy: 0.9489\n",
      "Epoch 8/10\n",
      "2249/2249 [==============================] - 2137s 950ms/step - loss: 0.0911 - accuracy: 0.9701 - val_loss: 0.1323 - val_accuracy: 0.9589\n",
      "Epoch 9/10\n",
      "2249/2249 [==============================] - 2142s 952ms/step - loss: 0.0803 - accuracy: 0.9737 - val_loss: 0.1242 - val_accuracy: 0.9636\n",
      "Epoch 10/10\n",
      "2249/2249 [==============================] - 2143s 953ms/step - loss: 0.0668 - accuracy: 0.9778 - val_loss: 0.2016 - val_accuracy: 0.9395\n"
     ]
    }
   ],
   "source": [
    "training_history = model.fit(x=training_set,validation_data=validation_set, epochs=10)"
   ],
   "metadata": {
    "collapsed": false,
    "ExecuteTime": {
     "end_time": "2024-02-25T18:33:07.865302700Z",
     "start_time": "2024-02-25T12:33:33.458852200Z"
    }
   },
   "id": "c5542272c3963bc5",
   "execution_count": 20
  },
  {
   "cell_type": "code",
   "outputs": [
    {
     "name": "stdout",
     "output_type": "stream",
     "text": [
      "2249/2249 [==============================] - 373s 166ms/step - loss: 0.0696 - accuracy: 0.9765\n"
     ]
    }
   ],
   "source": [
    "train_loss, train_acc = model.evaluate(training_set)"
   ],
   "metadata": {
    "collapsed": false,
    "ExecuteTime": {
     "end_time": "2024-02-25T23:01:39.504793200Z",
     "start_time": "2024-02-25T22:55:26.674666800Z"
    }
   },
   "id": "8e4584d5225a7c7d",
   "execution_count": 21
  },
  {
   "cell_type": "code",
   "outputs": [
    {
     "name": "stdout",
     "output_type": "stream",
     "text": [
      "0.06956512480974197 0.9764607548713684\n"
     ]
    }
   ],
   "source": [
    "print(train_loss,train_acc)"
   ],
   "metadata": {
    "collapsed": false,
    "ExecuteTime": {
     "end_time": "2024-02-25T23:02:46.942663100Z",
     "start_time": "2024-02-25T23:02:46.909725200Z"
    }
   },
   "id": "646ce05bdafe1efb",
   "execution_count": 22
  },
  {
   "cell_type": "code",
   "outputs": [
    {
     "name": "stdout",
     "output_type": "stream",
     "text": [
      "585/585 [==============================] - 100s 170ms/step - loss: 0.2016 - accuracy: 0.9395\n"
     ]
    }
   ],
   "source": [
    "val_loss,val_acc = model.evaluate(validation_set)"
   ],
   "metadata": {
    "collapsed": false,
    "ExecuteTime": {
     "end_time": "2024-02-25T23:04:58.372004200Z",
     "start_time": "2024-02-25T23:03:18.526451Z"
    }
   },
   "id": "8f09d5b1bb0f6e5c",
   "execution_count": 23
  },
  {
   "cell_type": "code",
   "outputs": [
    {
     "name": "stdout",
     "output_type": "stream",
     "text": [
      "0.20163102447986603 0.9394960403442383\n"
     ]
    }
   ],
   "source": [
    "print(val_loss, val_acc)"
   ],
   "metadata": {
    "collapsed": false,
    "ExecuteTime": {
     "end_time": "2024-02-25T23:05:27.004776500Z",
     "start_time": "2024-02-25T23:05:26.970777100Z"
    }
   },
   "id": "68d0092be58d39f4",
   "execution_count": 24
  },
  {
   "cell_type": "code",
   "outputs": [],
   "source": [
    "model.save(\"predict_DiseaseNew.keras\")"
   ],
   "metadata": {
    "collapsed": false,
    "ExecuteTime": {
     "end_time": "2024-02-25T23:10:18.445370300Z",
     "start_time": "2024-02-25T23:10:18.368542300Z"
    }
   },
   "id": "18c6812512dcfd36",
   "execution_count": 26
  },
  {
   "cell_type": "code",
   "outputs": [
    {
     "data": {
      "text/plain": "{'loss': [1.6018798351287842,\n  0.5431918501853943,\n  0.324372798204422,\n  0.2251354604959488,\n  0.16886146366596222,\n  0.1322557032108307,\n  0.10612301528453827,\n  0.09108682721853256,\n  0.08030101656913757,\n  0.06683076918125153],\n 'accuracy': [0.5409157276153564,\n  0.8290696740150452,\n  0.8965052366256714,\n  0.926936686038971,\n  0.9435975551605225,\n  0.9556589722633362,\n  0.9642048478126526,\n  0.9700688123703003,\n  0.9736538529396057,\n  0.9777808785438538],\n 'val_loss': [0.6054195165634155,\n  0.36980706453323364,\n  0.23472000658512115,\n  0.20946723222732544,\n  0.21415124833583832,\n  0.27625712752342224,\n  0.1713518500328064,\n  0.13231177628040314,\n  0.12415149807929993,\n  0.20163117349147797],\n 'val_accuracy': [0.8081099987030029,\n  0.8800085783004761,\n  0.9260150790214539,\n  0.9293853044509888,\n  0.93034827709198,\n  0.9185791611671448,\n  0.948857843875885,\n  0.9588615894317627,\n  0.9635692238807678,\n  0.9394960403442383]}"
     },
     "execution_count": 27,
     "metadata": {},
     "output_type": "execute_result"
    }
   ],
   "source": [
    "training_history.history"
   ],
   "metadata": {
    "collapsed": false,
    "ExecuteTime": {
     "end_time": "2024-02-25T23:12:45.771914600Z",
     "start_time": "2024-02-25T23:12:45.745258700Z"
    }
   },
   "id": "2dda94395ca69d79",
   "execution_count": 27
  },
  {
   "cell_type": "code",
   "outputs": [],
   "source": [
    "import json\n",
    "with open(\"trainingHisotry.json\",\"w\") as f:\n",
    "    json.dump(training_history.history,f)"
   ],
   "metadata": {
    "collapsed": false,
    "ExecuteTime": {
     "end_time": "2024-02-25T23:16:36.504572700Z",
     "start_time": "2024-02-25T23:16:36.493060900Z"
    }
   },
   "id": "98cf1d15c0b4730",
   "execution_count": 28
  },
  {
   "cell_type": "code",
   "outputs": [
    {
     "data": {
      "text/plain": "<Figure size 640x480 with 1 Axes>",
      "image/png": "[encoded data removed]"
     },
     "metadata": {},
     "output_type": "display_data"
    }
   ],
   "source": [
    "epochs = [i for i in range(1,11)]\n",
    "plt.plot(epochs,training_history.history[\"accuracy\"], color = \"blue\", label = \"training accuracy\")\n",
    "plt.plot(epochs,training_history.history[\"val_accuracy\"], color = \"yellow\", label = \"validation accuracy\")\n",
    "plt.show()"
   ],
   "metadata": {
    "collapsed": false,
    "ExecuteTime": {
     "end_time": "2024-02-25T23:26:40.337620700Z",
     "start_time": "2024-02-25T23:26:40.236550900Z"
    }
   },
   "id": "cbf8bdf70917b0a8",
   "execution_count": 31
  },
  {
   "cell_type": "code",
   "outputs": [
    {
     "data": {
      "text/plain": "['Apple___Apple_scab',\n 'Apple___Black_rot',\n 'Apple___Cedar_apple_rust',\n 'Apple___healthy',\n 'Blueberry___healthy',\n 'Cherry_(including_sour)___Powdery_mildew',\n 'Cherry_(including_sour)___healthy',\n 'Cinnamon healthy',\n 'Cinnamon leaf spot',\n 'Corn_(maize)___Cercospora_leaf_spot Gray_leaf_spot',\n 'Corn_(maize)___Common_rust_',\n 'Corn_(maize)___Northern_Leaf_Blight',\n 'Corn_(maize)___healthy',\n 'Grape___Black_rot',\n 'Grape___Esca_(Black_Measles)',\n 'Grape___Leaf_blight_(Isariopsis_Leaf_Spot)',\n 'Grape___healthy',\n 'Orange___Haunglongbing_(Citrus_greening)',\n 'Peach___Bacterial_spot',\n 'Peach___healthy',\n 'Pepper,_bell___Bacterial_spot',\n 'Pepper,_bell___healthy',\n 'Potato___Early_blight',\n 'Potato___Late_blight',\n 'Potato___healthy',\n 'Raspberry___healthy',\n 'Soybean___healthy',\n 'Squash___Powdery_mildew',\n 'Strawberry___Leaf_scorch',\n 'Strawberry___healthy',\n 'Tea algal leaf',\n 'Tea antrhacnose',\n 'Tea bird eye spot',\n 'Tea brown blight',\n 'Tea gray light',\n 'Tea healthy',\n 'Tea red leaf spot',\n 'Tea white spot',\n 'Tomato___Bacterial_spot',\n 'Tomato___Early_blight',\n 'Tomato___Late_blight',\n 'Tomato___Leaf_Mold',\n 'Tomato___Septoria_leaf_spot',\n 'Tomato___Spider_mites Two-spotted_spider_mite',\n 'Tomato___Target_Spot',\n 'Tomato___Tomato_Yellow_Leaf_Curl_Virus',\n 'Tomato___Tomato_mosaic_virus',\n 'Tomato___healthy']"
     },
     "execution_count": 32,
     "metadata": {},
     "output_type": "execute_result"
    }
   ],
   "source": [
    "class_name = validation_set.class_names\n",
    "class_name"
   ],
   "metadata": {
    "collapsed": false,
    "ExecuteTime": {
     "end_time": "2024-02-25T23:38:16.389233400Z",
     "start_time": "2024-02-25T23:38:16.356410Z"
    }
   },
   "id": "ff6e388d0102203b",
   "execution_count": 32
  },
  {
   "cell_type": "code",
   "outputs": [
    {
     "name": "stdout",
     "output_type": "stream",
     "text": [
      "Found 18693 files belonging to 48 classes.\n"
     ]
    }
   ],
   "source": [
    "test_set =  tf.keras.utils.image_dataset_from_directory(\n",
    "    \"valid\",\n",
    "    labels=\"inferred\",\n",
    "    label_mode=\"categorical\",\n",
    "    class_names=None,\n",
    "    color_mode=\"rgb\",\n",
    "    batch_size=32,\n",
    "    image_size=(128, 128),\n",
    "    shuffle=False,\n",
    "    seed=None,\n",
    "    validation_split=None,\n",
    "    subset=None,\n",
    "    interpolation=\"bilinear\",\n",
    "    follow_links=False,\n",
    "    crop_to_aspect_ratio=False,\n",
    "    \n",
    ")"
   ],
   "metadata": {
    "collapsed": false,
    "ExecuteTime": {
     "end_time": "2024-02-25T23:40:33.740044700Z",
     "start_time": "2024-02-25T23:40:32.923824400Z"
    }
   },
   "id": "46183f66e5edd77c",
   "execution_count": 33
  },
  {
   "cell_type": "code",
   "outputs": [
    {
     "name": "stdout",
     "output_type": "stream",
     "text": [
      "585/585 [==============================] - 87s 148ms/step\n"
     ]
    },
    {
     "data": {
      "text/plain": "(array([[1.00000000e+00, 3.48666408e-11, 8.22075741e-12, ...,\n         8.73452786e-19, 1.13393055e-16, 3.74577325e-17],\n        [1.00000000e+00, 2.82000187e-11, 1.47126804e-13, ...,\n         1.40241937e-24, 2.95499913e-18, 1.29558395e-21],\n        [1.00000000e+00, 3.94611982e-10, 1.03974294e-10, ...,\n         1.25517896e-18, 3.25139865e-14, 9.49226117e-15],\n        ...,\n        [1.86166071e-05, 3.48359528e-08, 3.22091000e-05, ...,\n         6.93559770e-08, 1.76190338e-06, 9.97720540e-01],\n        [3.65179387e-10, 1.14822079e-13, 1.34289039e-07, ...,\n         7.12507137e-11, 2.05291395e-10, 9.99998450e-01],\n        [1.13837420e-13, 2.38919275e-16, 7.60709343e-11, ...,\n         8.04823432e-15, 3.23598331e-12, 9.99999642e-01]], dtype=float32),\n (18693, 48))"
     },
     "execution_count": 35,
     "metadata": {},
     "output_type": "execute_result"
    }
   ],
   "source": [
    "yPred = model.predict(test_set)\n",
    "yPred, yPred.shape"
   ],
   "metadata": {
    "collapsed": false,
    "ExecuteTime": {
     "end_time": "2024-02-25T23:47:12.668724400Z",
     "start_time": "2024-02-25T23:45:45.676636200Z"
    }
   },
   "id": "43fcb2b2167a4791",
   "execution_count": 35
  },
  {
   "cell_type": "code",
   "outputs": [],
   "source": [
    "predictedCategories = tf.argmax(yPred, axis=1)"
   ],
   "metadata": {
    "collapsed": false,
    "ExecuteTime": {
     "end_time": "2024-02-25T23:48:37.871321700Z",
     "start_time": "2024-02-25T23:48:37.853180700Z"
    }
   },
   "id": "9143950691ee3cd3",
   "execution_count": 36
  },
  {
   "cell_type": "code",
   "outputs": [
    {
     "data": {
      "text/plain": "<tf.Tensor: shape=(18693,), dtype=int64, numpy=array([ 0,  0,  0, ..., 47, 47, 47], dtype=int64)>"
     },
     "execution_count": 37,
     "metadata": {},
     "output_type": "execute_result"
    }
   ],
   "source": [
    "predictedCategories"
   ],
   "metadata": {
    "collapsed": false,
    "ExecuteTime": {
     "end_time": "2024-02-25T23:48:42.328776700Z",
     "start_time": "2024-02-25T23:48:42.296643600Z"
    }
   },
   "id": "a45d39b9d8ef231",
   "execution_count": 37
  },
  {
   "cell_type": "code",
   "outputs": [
    {
     "data": {
      "text/plain": "<tf.Tensor: shape=(18693, 48), dtype=float32, numpy=\narray([[1., 0., 0., ..., 0., 0., 0.],\n       [1., 0., 0., ..., 0., 0., 0.],\n       [1., 0., 0., ..., 0., 0., 0.],\n       ...,\n       [0., 0., 0., ..., 0., 0., 1.],\n       [0., 0., 0., ..., 0., 0., 1.],\n       [0., 0., 0., ..., 0., 0., 1.]], dtype=float32)>"
     },
     "execution_count": 38,
     "metadata": {},
     "output_type": "execute_result"
    }
   ],
   "source": [
    "trueCategories = tf.concat([y for x,y in test_set],axis = 0)\n",
    "trueCategories"
   ],
   "metadata": {
    "collapsed": false,
    "ExecuteTime": {
     "end_time": "2024-02-25T23:50:09.530778500Z",
     "start_time": "2024-02-25T23:50:02.505233200Z"
    }
   },
   "id": "3aee1f6c1b2e9ee6",
   "execution_count": 38
  },
  {
   "cell_type": "code",
   "outputs": [
    {
     "data": {
      "text/plain": "<tf.Tensor: shape=(18693,), dtype=int64, numpy=array([ 0,  0,  0, ..., 47, 47, 47], dtype=int64)>"
     },
     "execution_count": 39,
     "metadata": {},
     "output_type": "execute_result"
    }
   ],
   "source": [
    "yTrue = tf.argmax(trueCategories,axis=1)\n",
    "yTrue"
   ],
   "metadata": {
    "collapsed": false,
    "ExecuteTime": {
     "end_time": "2024-02-25T23:51:44.382461400Z",
     "start_time": "2024-02-25T23:51:44.347913500Z"
    }
   },
   "id": "a36e67b624255545",
   "execution_count": 39
  },
  {
   "cell_type": "code",
   "outputs": [],
   "source": [
    "from sklearn.metrics import classification_report"
   ],
   "metadata": {
    "collapsed": false,
    "ExecuteTime": {
     "end_time": "2024-02-25T23:57:54.328481300Z",
     "start_time": "2024-02-25T23:57:53.763176900Z"
    }
   },
   "id": "2fc1aa7a180854c4",
   "execution_count": 40
  },
  {
   "cell_type": "code",
   "outputs": [
    {
     "data": {
      "text/plain": "'                                                    precision    recall  f1-score   support\\n\\n                                Apple___Apple_scab       0.90      0.97      0.94       504\\n                                 Apple___Black_rot       0.97      0.98      0.98       497\\n                          Apple___Cedar_apple_rust       0.95      0.97      0.96       440\\n                                   Apple___healthy       0.97      0.94      0.95       502\\n                               Blueberry___healthy       0.90      0.98      0.94       454\\n          Cherry_(including_sour)___Powdery_mildew       0.99      0.98      0.98       421\\n                 Cherry_(including_sour)___healthy       0.99      0.96      0.97       456\\n                                  Cinnamon healthy       0.80      0.76      0.78       131\\n                                Cinnamon leaf spot       0.81      0.64      0.71        85\\nCorn_(maize)___Cercospora_leaf_spot Gray_leaf_spot       0.88      0.95      0.91       410\\n                       Corn_(maize)___Common_rust_       1.00      0.97      0.98       477\\n               Corn_(maize)___Northern_Leaf_Blight       0.93      0.92      0.93       477\\n                            Corn_(maize)___healthy       0.99      0.97      0.98       465\\n                                 Grape___Black_rot       0.96      0.99      0.97       472\\n                      Grape___Esca_(Black_Measles)       0.99      0.97      0.98       480\\n        Grape___Leaf_blight_(Isariopsis_Leaf_Spot)       0.99      0.99      0.99       430\\n                                   Grape___healthy       1.00      0.98      0.99       423\\n          Orange___Haunglongbing_(Citrus_greening)       0.98      1.00      0.99       503\\n                            Peach___Bacterial_spot       0.96      0.95      0.96       459\\n                                   Peach___healthy       0.99      0.96      0.98       432\\n                     Pepper,_bell___Bacterial_spot       0.97      0.94      0.96       478\\n                            Pepper,_bell___healthy       0.97      0.92      0.95       497\\n                             Potato___Early_blight       0.96      1.00      0.98       485\\n                              Potato___Late_blight       0.95      0.95      0.95       485\\n                                  Potato___healthy       0.97      0.97      0.97       456\\n                               Raspberry___healthy       1.00      0.97      0.98       445\\n                                 Soybean___healthy       0.98      0.97      0.98       505\\n                           Squash___Powdery_mildew       0.97      1.00      0.98       434\\n                          Strawberry___Leaf_scorch       0.96      0.99      0.98       444\\n                              Strawberry___healthy       0.98      0.99      0.98       456\\n                                    Tea algal leaf       0.76      0.52      0.62       113\\n                                   Tea antrhacnose       0.95      0.41      0.57       100\\n                                 Tea bird eye spot       0.79      0.68      0.73       100\\n                                  Tea brown blight       0.44      1.00      0.61       113\\n                                    Tea gray light       0.58      0.98      0.73       100\\n                                       Tea healthy       0.99      0.94      0.96        94\\n                                 Tea red leaf spot       1.00      0.63      0.77       143\\n                                    Tea white spot       0.86      0.46      0.60       142\\n                           Tomato___Bacterial_spot       0.96      0.97      0.96       425\\n                             Tomato___Early_blight       0.79      0.92      0.85       480\\n                              Tomato___Late_blight       0.96      0.79      0.87       463\\n                                Tomato___Leaf_Mold       0.98      0.92      0.95       470\\n                       Tomato___Septoria_leaf_spot       0.95      0.81      0.87       436\\n     Tomato___Spider_mites Two-spotted_spider_mite       0.97      0.85      0.90       435\\n                              Tomato___Target_Spot       0.84      0.96      0.90       457\\n            Tomato___Tomato_Yellow_Leaf_Curl_Virus       1.00      0.97      0.98       490\\n                      Tomato___Tomato_mosaic_virus       0.83      1.00      0.90       448\\n                                  Tomato___healthy       0.99      0.97      0.98       481\\n\\n                                          accuracy                           0.94     18693\\n                                         macro avg       0.92      0.90      0.90     18693\\n                                      weighted avg       0.95      0.94      0.94     18693\\n'"
     },
     "execution_count": 41,
     "metadata": {},
     "output_type": "execute_result"
    }
   ],
   "source": [
    "classification_report(yTrue, predictedCategories, target_names= class_name)"
   ],
   "metadata": {
    "collapsed": false,
    "ExecuteTime": {
     "end_time": "2024-02-25T23:58:47.441483Z",
     "start_time": "2024-02-25T23:58:47.408319100Z"
    }
   },
   "id": "b57db77483d1292a",
   "execution_count": 41
  },
  {
   "cell_type": "code",
   "outputs": [],
   "source": [],
   "metadata": {
    "collapsed": false
   },
   "id": "b5c8a31882a2464a"
  }
 ],
 "metadata": {
  "kernelspec": {
   "display_name": "Python 3",
   "language": "python",
   "name": "python3"
  },
  "language_info": {
   "codemirror_mode": {
    "name": "ipython",
    "version": 2
   },
   "file_extension": ".py",
   "mimetype": "text/x-python",
   "name": "python",
   "nbconvert_exporter": "python",
   "pygments_lexer": "ipython2",
   "version": "2.7.6"
  }
 },
 "nbformat": 4,
 "nbformat_minor": 5
}
